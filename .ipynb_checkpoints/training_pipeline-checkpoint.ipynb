{
 "cells": [
  {
   "cell_type": "code",
   "execution_count": null,
   "id": "cf0b0894-1e05-4590-80fd-4c4862b42ece",
   "metadata": {},
   "outputs": [],
   "source": [
    "import yaml\n",
    "from kfp import dsl\n",
    "from kfp.dsl import (\n",
    "    component,\n",
    "    Metrics,\n",
    "    Dataset,\n",
    "    Input,\n",
    "    Model,\n",
    "    Artifact,\n",
    "    OutputPath,\n",
    "    Output,\n",
    ")\n",
    "from kfp import compiler\n",
    "import google.cloud.aiplatform as aiplatform\n",
    "import os"
   ]
  },
  {
   "cell_type": "code",
   "execution_count": null,
   "id": "4c9eabe5-804e-40c9-a0a3-cdf2f3447eec",
   "metadata": {},
   "outputs": [],
   "source": [
    "@component(\n",
    "    base_image=\"asia-south1-docker.pkg.dev/<projectname>/kubeflow_pipelines/demo_model\"\n",
    ")\n",
    "def data_ingestion(input_data_path: str, input_data: Output[Dataset],):\n",
    "    import pandas as pd\n",
    "    from datetime import datetime, timedelta\n",
    "    from google.cloud import bigquery\n",
    "    import logging\n",
    "    df = pd.read_csv(input_data_path)\n",
    "    df.to_csv(input_data.path, index=False)"
   ]
  },
  {
   "cell_type": "code",
   "execution_count": null,
   "id": "fd12324b-1b30-4e3d-be27-699c34fd971b",
   "metadata": {},
   "outputs": [],
   "source": [
    "@component(\n",
    "    base_image=\"asia-south1-docker.pkg.dev/<projectname>/kubeflow_pipelines/demo_model\"\n",
    ")\n",
    "def preprocessing(train_df: Input[Dataset], input_data_preprocessed: Output[Dataset]):\n",
    "    import pandas as pd\n",
    "    import numpy as np\n",
    "    from src.preprocess import get_preprocessing\n",
    "    import logging\n",
    "\n",
    "    df = pd.read_csv(train_df.path)\n",
    "    df = get_preprocessing(df)\n",
    "    df.to_csv(input_data_preprocessed.path, index=False)"
   ]
  },
  {
   "cell_type": "code",
   "execution_count": null,
   "id": "349b21ec-383d-4929-a583-ec80411e7aa4",
   "metadata": {},
   "outputs": [],
   "source": [
    "@component(\n",
    "    base_image=\"asia-south1-docker.pkg.dev/<projectname>/kubeflow_pipelines/demo_model\"\n",
    ")\n",
    "def train_test_data_split(\n",
    "    dataset_in: Input[Dataset],\n",
    "    target_column: str,\n",
    "    dataset_train: Output[Dataset],\n",
    "    dataset_test: Output[Dataset],\n",
    "    test_size: float = 0.2,\n",
    "):\n",
    "    from src.train_test_splits import get_train_test_splits\n",
    "    import pandas as pd\n",
    "    import logging\n",
    "\n",
    "    data = pd.read_csv(dataset_in.path)\n",
    "    X_train, X_test = get_train_test_splits(\n",
    "        data, target_column, test_size\n",
    "    )\n",
    "    logger.info(\"Dataset train Shape: \", X_train.shape)\n",
    "    logger.info(\"Dataset test Shape: \", X_test.shape)\n",
    "    logger.info(f\"X_train columns: {list(X_train.columns)}\")\n",
    "    X_train.to_csv(dataset_train.path, index=False)\n",
    "    X_test.to_csv(dataset_test.path, index=False)"
   ]
  }
 ],
 "metadata": {
  "kernelspec": {
   "display_name": "Python [conda env:base] *",
   "language": "python",
   "name": "conda-base-py"
  },
  "language_info": {
   "codemirror_mode": {
    "name": "ipython",
    "version": 3
   },
   "file_extension": ".py",
   "mimetype": "text/x-python",
   "name": "python",
   "nbconvert_exporter": "python",
   "pygments_lexer": "ipython3",
   "version": "3.9.21"
  }
 },
 "nbformat": 4,
 "nbformat_minor": 5
}
