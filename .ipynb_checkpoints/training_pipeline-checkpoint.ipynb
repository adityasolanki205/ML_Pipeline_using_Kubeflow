{
 "cells": [
  {
   "cell_type": "code",
   "execution_count": null,
   "id": "cf0b0894-1e05-4590-80fd-4c4862b42ece",
   "metadata": {},
   "outputs": [],
   "source": [
    "import yaml\n",
    "from kfp import dsl\n",
    "from kfp.dsl import (\n",
    "    component,\n",
    "    Metrics,\n",
    "    Dataset,\n",
    "    Input,\n",
    "    Model,\n",
    "    Artifact,\n",
    "    OutputPath,\n",
    "    Output,\n",
    ")\n",
    "from kfp import compiler\n",
    "import google.cloud.aiplatform as aiplatform\n",
    "import os"
   ]
  },
  {
   "cell_type": "code",
   "execution_count": null,
   "id": "4c9eabe5-804e-40c9-a0a3-cdf2f3447eec",
   "metadata": {},
   "outputs": [],
   "source": [
    "@component(\n",
    "    base_image=\"europe-west1-docker.pkg.dev/gcp-project-raj33342/kfp-mlops/demo_model\"\n",
    ")\n",
    "def data_ingestion(input_data_path: str, input_data: Output[Dataset],\n",
    "):\n",
    "    import pandas as pd\n",
    "    from datetime import datetime, timedelta\n",
    "    from google.cloud import bigquery\n",
    "    import logging\n",
    "\n",
    "    logging.basicConfig(level=logging.INFO)\n",
    "    logger = logging.getLogger(__name__)\n",
    "    df = pd.read_csv(input_data_path)\n",
    "    df.to_csv(input_data.path, index=False)"
   ]
  }
 ],
 "metadata": {
  "kernelspec": {
   "display_name": "Python [conda env:base] *",
   "language": "python",
   "name": "conda-base-py"
  },
  "language_info": {
   "codemirror_mode": {
    "name": "ipython",
    "version": 3
   },
   "file_extension": ".py",
   "mimetype": "text/x-python",
   "name": "python",
   "nbconvert_exporter": "python",
   "pygments_lexer": "ipython3",
   "version": "3.9.21"
  }
 },
 "nbformat": 4,
 "nbformat_minor": 5
}
